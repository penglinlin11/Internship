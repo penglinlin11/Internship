{
 "cells": [
  {
   "cell_type": "code",
   "execution_count": null,
   "id": "700d15b9",
   "metadata": {},
   "outputs": [],
   "source": [
    "'''\n",
    "Question 1- Write a Python program to replace all occurrences of a space, comma, or dot with a colon.\n",
    "Sample Text- 'Python Exercises, PHP exercises.'\n",
    "Expected Output: Python:Exercises::PHP:exercises:\n",
    "'''\n",
    "\n",
    "import re\n",
    "\n",
    "\n",
    "sample_text = 'Python Exercises, PHP exercises.'\n",
    "\n",
    "output_text = re.sub(r'[ ,.]', ':', sample_text)\n",
    "\n",
    "print(output_text)"
   ]
  },
  {
   "cell_type": "code",
   "execution_count": 10,
   "id": "e30ae469",
   "metadata": {},
   "outputs": [
    {
     "name": "stdout",
     "output_type": "stream",
     "text": [
      "         SUMMARY\n",
      "0    hello world\n",
      "1     XXXXX test\n",
      "2  four five six\n"
     ]
    }
   ],
   "source": [
    "'''\n",
    "Question 2-  Create a dataframe using the dictionary below and remove everything (commas (,), !, XXXX, ;, etc.) from the columns except words.\n",
    "Dictionary- {'SUMMARY' : ['hello, world!', 'XXXXX test', '123four, five:; six...']}\n",
    "Expected output-\n",
    "0      hello world\n",
    "1             test\n",
    "2    four five six\n",
    "'''\n",
    "\n",
    "\n",
    "import pandas as pd\n",
    "import re\n",
    "\n",
    "# Dictionary\n",
    "data_dict = {'SUMMARY': ['hello, world!', 'XXXXX test', '123four, five:; six...']}\n",
    "\n",
    "# Apply re.sub to remove unwanted characters and split into words\n",
    "cleaned_data = {key: [re.sub(r'[^a-zA-Z\\sXXXXX]', '', text).strip() for text in value] for key, value in data_dict.items()}\n",
    "\n",
    "# Create a DataFrame\n",
    "df = pd.DataFrame(cleaned_data)\n",
    "\n",
    "# Print the DataFrame\n",
    "print(df)\n",
    "\n"
   ]
  },
  {
   "cell_type": "code",
   "execution_count": 13,
   "id": "45acba54",
   "metadata": {},
   "outputs": [
    {
     "name": "stdout",
     "output_type": "stream",
     "text": [
      "['doing', 'great']\n"
     ]
    }
   ],
   "source": [
    "\n",
    "'''\n",
    "Question 3- Create a function in python to find all words that are at least 4 characters long in a string. The use of the re.compile() method is mandatory.\n",
    "'''\n",
    "\n",
    "import re\n",
    "\n",
    "def find_long_words(input_string):\n",
    "    pattern = re.compile(r'\\b\\w{4,}\\b')\n",
    "    \n",
    "    long_words = pattern.findall(input_string)\n",
    "    \n",
    "    return long_words\n",
    "\n",
    "# Example usage:\n",
    "input_text = \"You are doing great.\"\n",
    "result = find_long_words(input_text)\n",
    "print(result)\n"
   ]
  },
  {
   "cell_type": "code",
   "execution_count": 19,
   "id": "2608b4d9",
   "metadata": {},
   "outputs": [
    {
     "name": "stdout",
     "output_type": "stream",
     "text": [
      "['This', 'text', 'with', 'some', 'words']\n"
     ]
    }
   ],
   "source": [
    "\n",
    "'''\n",
    "Question 4- Create a function in python to find all three, four, and five character words in a string. The use of the re.compile() method is mandatory.\n",
    "'''\n",
    "\n",
    "import re\n",
    "\n",
    "input_string = \"This is a sample text with some words of different lengths.\"\n",
    "\n",
    "pattern = re.compile(r'\\b\\w{3,5}\\b')\n",
    "\n",
    "result = pattern.findall(input_string)\n",
    "\n",
    "print(result)\n",
    "\n"
   ]
  },
  {
   "cell_type": "code",
   "execution_count": 17,
   "id": "3c9576ac",
   "metadata": {},
   "outputs": [
    {
     "name": "stdout",
     "output_type": "stream",
     "text": [
      "['example .com', 'hr@fliprobo .com', 'github .com', 'Hello Data Science World', 'Data Scientist']\n"
     ]
    }
   ],
   "source": [
    "\n",
    "'''\n",
    "Question 5- Create a function in Python to remove the parenthesis in a list of strings. The use of the re.compile() method is mandatory.\n",
    "Sample Text: [\"example (.com)\", \"hr@fliprobo (.com)\", \"github (.com)\", \"Hello (Data Science World)\", \"Data (Scientist)\"]\n",
    "'''\n",
    "\n",
    "\n",
    "import re\n",
    "\n",
    "sample_text = [\"example (.com)\", \"hr@fliprobo (.com)\", \"github (.com)\", \"Hello (Data Science World)\", \"Data (Scientist)\"]\n",
    "\n",
    "pattern = re.compile(r'\\(|\\)') \n",
    "\n",
    "strings_without_parentheses = [pattern.sub('', s) for s in sample_text]\n",
    "\n",
    "print(strings_without_parentheses)\n"
   ]
  },
  {
   "cell_type": "code",
   "execution_count": 30,
   "id": "974b508f",
   "metadata": {},
   "outputs": [
    {
     "name": "stdout",
     "output_type": "stream",
     "text": [
      " [\"example \", \"hr@fliprobo \", \"github \", \"Hello \", \"Data \"]\n"
     ]
    }
   ],
   "source": [
    "'''\n",
    "Question 6- Write a python program to remove the parenthesis area from the text stored in the text file using Regular Expression.\n",
    "Sample Text: [\"example (.com)\", \"hr@fliprobo (.com)\", \"github (.com)\", \"Hello (Data Science World)\", \"Data (Scientist)\"]\n",
    "Expected Output: [\"example\", \"hr@fliprobo\", \"github\", \"Hello\", \"Data\"]\n",
    "Note- Store given sample text in the text file and then to remove the parenthesis area from the text.\n",
    "'''\n",
    "\n",
    "\n",
    "import re\n",
    "\n",
    "with open('/Users/linlinpeng/Desktop/input.text.txt', 'r') as file:\n",
    "    sample_text = file.read()\n",
    "\n",
    "modified_text = re.sub(r'\\([^)]*\\)','',sample_text)\n",
    "\n",
    "print(modified_text)\n"
   ]
  },
  {
   "cell_type": "code",
   "execution_count": 31,
   "id": "84acb0ae",
   "metadata": {},
   "outputs": [
    {
     "name": "stdout",
     "output_type": "stream",
     "text": [
      "['Importance', 'Of', 'Regular', 'Expressions', 'In', 'Python']\n"
     ]
    }
   ],
   "source": [
    "\n",
    "'''\n",
    "Question 7- Write a regular expression in Python to split a string into uppercase letters.\n",
    "Sample text: “ImportanceOfRegularExpressionsInPython”\n",
    "Expected Output: [‘Importance’, ‘Of’, ‘Regular’, ‘Expression’, ‘In’, ‘Python’]\n",
    "'''\n",
    "\n",
    "import re\n",
    "\n",
    "# Sample text\n",
    "sample_text = \"ImportanceOfRegularExpressionsInPython\"\n",
    "\n",
    "# Split the string into uppercase letters using regular expression\n",
    "result = re.split(r'([A-Z][a-z]*)', sample_text)\n",
    "\n",
    "# Filter out empty strings from the result\n",
    "result = [segment for segment in result if segment]\n",
    "\n",
    "# Print the output\n",
    "print(result)\n"
   ]
  },
  {
   "cell_type": "code",
   "execution_count": 80,
   "id": "7a3f4d36",
   "metadata": {
    "scrolled": true
   },
   "outputs": [
    {
     "name": "stdout",
     "output_type": "stream",
     "text": [
      "RegularExpression1IsAn2ImportantTopic3InPython\n"
     ]
    }
   ],
   "source": [
    "\n",
    "'''\n",
    "Question 8- Create a function in python to insert spaces between words starting with numbers.\n",
    "Sample Text: “RegularExpression1IsAn2ImportantTopic3InPython\"\n",
    "Expected Output: RegularExpression 1IsAn 2ImportantTopic 3InPython\n",
    "'''\n",
    "\n",
    "import re\n",
    "\n",
    "sample_text = \"RegularExpression1IsAn2ImportantTopic3InPython\"\n",
    "\n",
    "result = re.sub(r'([A-Z])(\\d)', r'\\1 \\2', sample_text)\n",
    "print(result)\n",
    "\n"
   ]
  },
  {
   "cell_type": "code",
   "execution_count": 86,
   "id": "34147fe3",
   "metadata": {},
   "outputs": [
    {
     "name": "stdout",
     "output_type": "stream",
     "text": [
      " Regular Expression 1 Is An 2 Important Topic 3 In Python\n"
     ]
    }
   ],
   "source": [
    "\n",
    "'''\n",
    "Question 9- Create a function in python to insert spaces between words starting with capital letters or with numbers.\n",
    "Sample Text: “RegularExpression1IsAn2ImportantTopic3InPython\"\n",
    "Expected Output:  RegularExpression 1 IsAn 2 ImportantTopic 3 InPython\n",
    "\n",
    "\n",
    "'''\n",
    "import re\n",
    "\n",
    "def insert_spaces(text):\n",
    "    modified_text = re.sub(r'([A-Z0-9])', r' \\1', text)\n",
    "    return modified_text\n",
    "\n",
    "sample_text = \"RegularExpression1IsAn2ImportantTopic3InPython\"\n",
    "result = insert_spaces(sample_text)\n",
    "print(result)\n"
   ]
  },
  {
   "cell_type": "code",
   "execution_count": 89,
   "id": "7c549dc8",
   "metadata": {},
   "outputs": [
    {
     "name": "stdout",
     "output_type": "stream",
     "text": [
      "       Country          Region  Happiness Rank  Happiness Score  \\\n",
      "0  Switzerland  Western Europe               1            7.587   \n",
      "1      Iceland  Western Europe               2            7.561   \n",
      "2      Denmark  Western Europe               3            7.527   \n",
      "3       Norway  Western Europe               4            7.522   \n",
      "4       Canada   North America               5            7.427   \n",
      "\n",
      "   Standard Error  Economy (GDP per Capita)   Family  \\\n",
      "0         0.03411                   1.39651  1.34951   \n",
      "1         0.04884                   1.30232  1.40223   \n",
      "2         0.03328                   1.32548  1.36058   \n",
      "3         0.03880                   1.45900  1.33095   \n",
      "4         0.03553                   1.32629  1.32261   \n",
      "\n",
      "   Health (Life Expectancy)  Freedom  Trust (Government Corruption)  \\\n",
      "0                   0.94143  0.66557                        0.41978   \n",
      "1                   0.94784  0.62877                        0.14145   \n",
      "2                   0.87464  0.64938                        0.48357   \n",
      "3                   0.88521  0.66973                        0.36503   \n",
      "4                   0.90563  0.63297                        0.32957   \n",
      "\n",
      "   Generosity  Dystopia Residual first_five_letters  \n",
      "0     0.29678            2.51738             Switze  \n",
      "1     0.43630            2.70201             Icelan  \n",
      "2     0.34139            2.49204             Denmar  \n",
      "3     0.34699            2.46531             Norway  \n",
      "4     0.45811            2.45176             Canada  \n"
     ]
    }
   ],
   "source": [
    "\n",
    "'''\n",
    "Question 10- Use the github link below to read the data and create a dataframe. After creating the dataframe extract the first 6 letters of each country and store in the dataframe under a new column called first_five_letters.\n",
    "Github Link-  https://raw.githubusercontent.com/dsrscientist/DSData/master/happiness_score_dataset.csv\n",
    "\n",
    "'''\n",
    "\n",
    "import pandas as pd\n",
    "\n",
    "url = \"https://raw.githubusercontent.com/dsrscientist/DSData/master/happiness_score_dataset.csv\"\n",
    "df = pd.read_csv(url)\n",
    "\n",
    "df['first_five_letters'] = df['Country'].apply(lambda x: x[:6])\n",
    "\n",
    "print(df.head())\n"
   ]
  },
  {
   "cell_type": "code",
   "execution_count": 90,
   "id": "b1998c5d",
   "metadata": {},
   "outputs": [
    {
     "name": "stdout",
     "output_type": "stream",
     "text": [
      "String matches the pattern\n"
     ]
    }
   ],
   "source": [
    "'''\n",
    "Question 11- Write a Python program to match a string that contains only upper and lowercase letters, numbers, and underscores.\n",
    "'''\n",
    "\n",
    "import re\n",
    "\n",
    "test_string = \"Hello123_World\"\n",
    "\n",
    "if re.match(\"^[a-zA-Z0-9_]+$\", test_string):\n",
    "    print(\"String matches the pattern\")\n",
    "else:\n",
    "    print(\"String does not match the pattern\")\n"
   ]
  },
  {
   "cell_type": "code",
   "execution_count": null,
   "id": "c8f55ac5",
   "metadata": {},
   "outputs": [],
   "source": [
    "'''\n",
    "Question 12- Write a Python program where a string will start with a specific number. \n",
    "'''\n",
    "\n",
    "test_string = \"42 is the answer.\"\n",
    "\n",
    "specific_number = \"42\"\n",
    "\n",
    "if test_string.startswith(specific_number):\n",
    "    print(\"String starts with the specific number.\")\n",
    "else:\n",
    "    print(\"String does not start with the specific number.\")\n"
   ]
  },
  {
   "cell_type": "code",
   "execution_count": 91,
   "id": "b33300b9",
   "metadata": {},
   "outputs": [
    {
     "name": "stdout",
     "output_type": "stream",
     "text": [
      "Original IP address: 192.168.001.001\n",
      "IP address without leading zeros: 192.168.1.1\n"
     ]
    }
   ],
   "source": [
    "'''\n",
    "Question 13- Write a Python program to remove leading zeros from an IP address\n",
    "\n",
    "'''\n",
    "\n",
    "\n",
    "ip_address = \"192.168.001.001\"\n",
    "\n",
    "result = '.'.join(str(int(octet)) for octet in ip_address.split('.'))\n",
    "\n",
    "print(\"Original IP address:\", ip_address)\n",
    "print(\"IP address without leading zeros:\", result)\n"
   ]
  },
  {
   "cell_type": "code",
   "execution_count": 95,
   "id": "87c10e98",
   "metadata": {},
   "outputs": [
    {
     "ename": "SyntaxError",
     "evalue": "unterminated string literal (detected at line 16) (2147639937.py, line 16)",
     "output_type": "error",
     "traceback": [
      "\u001b[1;36m  Cell \u001b[1;32mIn[95], line 16\u001b[1;36m\u001b[0m\n\u001b[1;33m    pattern = r'\\b\u001b[0m\n\u001b[1;37m              ^\u001b[0m\n\u001b[1;31mSyntaxError\u001b[0m\u001b[1;31m:\u001b[0m unterminated string literal (detected at line 16)\n"
     ]
    }
   ],
   "source": [
    "'''\n",
    "Question 14- Write a regular expression in python to match a date string in the form of Month name followed by day number and year stored in a text file.\n",
    "Sample text :  ' On August 15th 1947 that India was declared independent from British colonialism, and the reins of control were handed over to the leaders of the Country’.\n",
    "Expected Output- August 15th 1947\n",
    "Note- Store given sample text in the text file and then extract the date string asked format.\n",
    "'''\n",
    "\n",
    "\n",
    "import re\n",
    "\n",
    "with open('\\Users\\linlinpeng\\Desktop\\input.text - 副本.txt', 'r') as file:\n",
    "    text = file.read()\n",
    "\n",
    "pattern = r'\\b\n",
    "\n",
    "matches = re.findall(pattern, text)\n",
    "\n",
    "if matches:\n",
    "    print(\"Matched date string:\", matches[0])\n",
    "else:\n",
    "    print(\"No match found.\")\n",
    "    \n",
    "    "
   ]
  },
  {
   "cell_type": "code",
   "execution_count": 96,
   "id": "64da3674",
   "metadata": {},
   "outputs": [
    {
     "name": "stdout",
     "output_type": "stream",
     "text": [
      "fox found in the text.\n",
      "dog found in the text.\n",
      "horse not found in the text.\n"
     ]
    }
   ],
   "source": [
    "'''\n",
    "Question 15- Write a Python program to search some literals strings in a string. \n",
    "Sample text : 'The quick brown fox jumps over the lazy dog.'\n",
    "Searched words : 'fox', 'dog', 'horse'\n",
    "\n",
    "'''\n",
    "\n",
    "import re\n",
    "\n",
    "sample_text = 'The quick brown fox jumps over the lazy dog.'\n",
    "searched_words = ['fox', 'dog', 'horse']\n",
    "\n",
    "for word in searched_words:\n",
    "    if re.search(re.escape(word), sample_text):\n",
    "        print(f'{word} found in the text.')\n",
    "    else:\n",
    "        print(f'{word} not found in the text.')\n"
   ]
  },
  {
   "cell_type": "code",
   "execution_count": 97,
   "id": "8c10e9d5",
   "metadata": {},
   "outputs": [
    {
     "name": "stdout",
     "output_type": "stream",
     "text": [
      "fox found in the text at position 16.\n"
     ]
    }
   ],
   "source": [
    "'''\n",
    "Question 16- Write a Python program to search a literals string in a string and also find the location within the original string where the pattern occurs\n",
    "Sample text : 'The quick brown fox jumps over the lazy dog.'\n",
    "Searched words : 'fox'\n",
    "'''\n",
    "\n",
    "sample_text = 'The quick brown fox jumps over the lazy dog.'\n",
    "searched_word = 'fox'\n",
    "\n",
    "match = sample_text.find(searched_word)\n",
    "\n",
    "if match != -1:\n",
    "    print(f'{searched_word} found in the text at position {match}.')\n",
    "else:\n",
    "    print(f'{searched_word} not found in the text.')\n"
   ]
  },
  {
   "cell_type": "code",
   "execution_count": 98,
   "id": "46b7c394",
   "metadata": {},
   "outputs": [
    {
     "name": "stdout",
     "output_type": "stream",
     "text": [
      "Found at position 7: exercises\n",
      "Found at position 22: exercises\n",
      "Found at position 36: exercises\n"
     ]
    }
   ],
   "source": [
    "'''\n",
    "Question 17- Write a Python program to find the substrings within a string.\n",
    "Sample text : 'Python exercises, PHP exercises, C# exercises'\n",
    "Pattern : 'exercises'.\n",
    "'''\n",
    "\n",
    "sample_text = 'Python exercises, PHP exercises, C# exercises'\n",
    "pattern = 'exercises'\n",
    "\n",
    "start = 0\n",
    "\n",
    "while start < len(sample_text):\n",
    "    index = sample_text.find(pattern, start)\n",
    "    if index == -1:\n",
    "        break\n",
    "    print(f'Found at position {index}: {sample_text[index:index+len(pattern)]}')\n",
    "    start = index + 1\n"
   ]
  },
  {
   "cell_type": "code",
   "execution_count": 99,
   "id": "b55637c1",
   "metadata": {},
   "outputs": [
    {
     "name": "stdout",
     "output_type": "stream",
     "text": [
      "Occurrence 1 at position 7\n",
      "Occurrence 2 at position 22\n",
      "Occurrence 3 at position 36\n"
     ]
    }
   ],
   "source": [
    "'''\n",
    "Question 18- Write a Python program to find the occurrence and position of the substrings within a string.\n",
    "\n",
    "'''\n",
    "\n",
    "sample_text = 'Python exercises, PHP exercises, C# exercises'\n",
    "pattern = 'exercises'\n",
    "\n",
    "start = 0\n",
    "occurrences = 0\n",
    "\n",
    "while start < len(sample_text):\n",
    "    index = sample_text.find(pattern, start)\n",
    "    if index == -1:\n",
    "        break\n",
    "    occurrences += 1\n",
    "    print(f'Occurrence {occurrences} at position {index}')\n",
    "    start = index + 1\n",
    "\n",
    "if occurrences == 0:\n",
    "    print(f'No occurrences of \"{pattern}\" found in the text.')\n",
    "\n"
   ]
  },
  {
   "cell_type": "code",
   "execution_count": 102,
   "id": "b887207e",
   "metadata": {},
   "outputs": [
    {
     "name": "stdout",
     "output_type": "stream",
     "text": [
      "09-01-2023\n"
     ]
    }
   ],
   "source": [
    "\n",
    "'''\n",
    "Question 19- Write a Python program to convert a date of yyyy-mm-dd format to dd-mm-yyyy format.\n",
    "\n",
    "'''\n",
    "\n",
    "date_yyyy_mm_dd = '2023-01-09'\n",
    "\n",
    "year, month, day = date_yyyy_mm_dd.split('-')\n",
    "\n",
    "print(f'{day}-{month}-{year}')\n"
   ]
  },
  {
   "cell_type": "code",
   "execution_count": 104,
   "id": "65de5758",
   "metadata": {
    "scrolled": true
   },
   "outputs": [
    {
     "name": "stdout",
     "output_type": "stream",
     "text": [
      "['01.12', '145.8', '3.01', '27.25', '0.25']\n"
     ]
    }
   ],
   "source": [
    "'''\n",
    "Question 20- Create a function in python to find all decimal numbers with a precision of 1 or 2 in a string. The use of the re.compile() method is mandatory.\n",
    "Sample Text: \"01.12 0132.123 2.31875 145.8 3.01 27.25 0.25\"\n",
    "Expected Output: ['01.12', '145.8', '3.01', '27.25', '0.25']\n",
    "'''\n",
    "\n",
    "import re\n",
    "\n",
    "sample_text = \"01.12 0132.123 2.31875 145.8 3.01 27.25 0.25\"\n",
    "\n",
    "pattern = re.compile(r'\\b\\d+\\.\\d{1,2}\\b')\n",
    "\n",
    "matches = pattern.findall(sample_text)\n",
    "\n",
    "print(matches)\n"
   ]
  },
  {
   "cell_type": "code",
   "execution_count": 105,
   "id": "a0b6066b",
   "metadata": {},
   "outputs": [
    {
     "name": "stdout",
     "output_type": "stream",
     "text": [
      "Number: 123, Position: 4\n",
      "Number: 456, Position: 12\n",
      "Number: 789, Position: 20\n"
     ]
    }
   ],
   "source": [
    "'''\n",
    "Question 21- Write a Python program to separate and print the numbers and their position of a given string.\n",
    "'''\n",
    "\n",
    "import re\n",
    "\n",
    "sample_text = \"abc 123 def 456 xyz 789\"\n",
    "\n",
    "pattern = re.compile(r'\\d+')\n",
    "\n",
    "for match in pattern.finditer(sample_text):\n",
    "    numeric_value = match.group()\n",
    "    position = match.start()\n",
    "    print(f'Number: {numeric_value}, Position: {position}')\n"
   ]
  },
  {
   "cell_type": "code",
   "execution_count": 107,
   "id": "a10c5801",
   "metadata": {},
   "outputs": [
    {
     "name": "stdout",
     "output_type": "stream",
     "text": [
      "Maximum Numeric Value: 950\n"
     ]
    }
   ],
   "source": [
    "'''\n",
    "Question 22- Write a regular expression in python program to extract maximum/largest numeric value from a string.\n",
    "Sample Text:  'My marks in each semester are: 947, 896, 926, 524, 734, 950, 642'\n",
    "Expected Output: 950\n",
    "'''\n",
    "\n",
    "import re\n",
    "\n",
    "sample_text = 'My marks in each semester are: 947, 896, 926, 524, 734, 950, 642'\n",
    "\n",
    "pattern = re.compile(r'\\b\\d+\\b')\n",
    "\n",
    "matches = pattern.findall(sample_text)\n",
    "\n",
    "if matches:\n",
    "    max_numeric_value = max(map(int, matches))\n",
    "    print(f'Maximum Numeric Value: {max_numeric_value}')\n",
    "else:\n",
    "    print('No numeric values found in the text.')\n"
   ]
  },
  {
   "cell_type": "code",
   "execution_count": 109,
   "id": "ce17c978",
   "metadata": {},
   "outputs": [
    {
     "name": "stdout",
     "output_type": "stream",
     "text": [
      "You Are Doing Great\n"
     ]
    }
   ],
   "source": [
    "'''\n",
    "Question 23- Create a function in python to insert spaces between words starting with capital letters.\n",
    "Sample Text: “RegularExpressionIsAnImportantTopicInPython\"\n",
    "Expected Output: Regular Expression Is An Important Topic In Python\n",
    "'''\n",
    "\n",
    "\n",
    "import re\n",
    "\n",
    "sample_text = \"YouAreDoingGreat\"\n",
    "\n",
    "formatted_text = re.sub(r'([a-z])([A-Z])', r'\\1 \\2', sample_text)\n",
    "\n",
    "print(formatted_text)\n"
   ]
  },
  {
   "cell_type": "code",
   "execution_count": 111,
   "id": "57c22cc5",
   "metadata": {},
   "outputs": [
    {
     "name": "stdout",
     "output_type": "stream",
     "text": [
      "['At', 'Bbf', 'Dnh', 'Gee', 'Mn', 'Pn']\n"
     ]
    }
   ],
   "source": [
    "'''\n",
    "Question 24- Python regex to find sequences of one upper case letter followed by lower case letters\n",
    "'''\n",
    "\n",
    "\n",
    "import re\n",
    "\n",
    "sample_text = \"At Bbf Dnh GeeJK lMnOPn\"\n",
    "\n",
    "matches = re.findall(r'[A-Z][a-z]+', sample_text)\n",
    "\n",
    "print(matches)\n"
   ]
  },
  {
   "cell_type": "code",
   "execution_count": null,
   "id": "e6f1d052",
   "metadata": {},
   "outputs": [],
   "source": [
    "'''\n",
    "Question 25- Write a Python program to remove continuous duplicate words from Sentence using Regular Expression.\n",
    "Sample Text: \"Hello hello world world\"\n",
    "Expected Output: Hello hello world\n",
    "\n",
    "'''\n",
    "\n",
    "import re\n",
    "\n",
    "sample_text = \"Hello hello world world\"\n",
    "\n",
    "formatted_text = re.sub(r'\\b(\\w+)(\\s+\\1)+\\b', r'\\1', sample_text)\n",
    "\n",
    "print(formatted_text)\n"
   ]
  },
  {
   "cell_type": "code",
   "execution_count": null,
   "id": "e440845d",
   "metadata": {},
   "outputs": [],
   "source": [
    "'''\n",
    "Question 26-  Write a python program using RegEx to accept string ending with alphanumeric character.\n",
    "'''\n",
    "\n",
    "import re\n",
    "\n",
    "input_string = input(\"Enter a string: \")\n",
    "\n",
    "if re.search(r'\\w$', input_string):\n",
    "    print(\"String ends with an alphanumeric character.\")\n",
    "else:\n",
    "    print(\"String does not end with an alphanumeric character.\")\n",
    "\n"
   ]
  },
  {
   "cell_type": "code",
   "execution_count": null,
   "id": "f141f1e1",
   "metadata": {},
   "outputs": [],
   "source": [
    "'''\n",
    "Question 27-Write a python program using RegEx to extract the hashtags.\n",
    "Sample Text:  \"\"\"RT @kapil_kausik: #Doltiwal I mean #xyzabc is \"hurt\" by #Demonetization as the same has rendered USELESS <ed><U+00A0><U+00BD><ed><U+00B1><U+0089> \"acquired funds\" No wo\"\"\"\n",
    "Expected Output: ['#Doltiwal', '#xyzabc', '#Demonetization']\n",
    "'''\n",
    "\n",
    "\n",
    "import re\n",
    "\n",
    "sample_text = \"\"\"RT @kapil_kausik: #Doltiwal I mean #xyzabc is \"hurt\" by #Demonetization as the same has rendered USELESS <ed><U+00A0><U+00BD><ed><U+00B1><U+0089> \"acquired funds\" No wo\"\"\"\n",
    "\n",
    "hashtags = re.findall(r'#\\w+', sample_text)\n",
    "\n",
    "print(hashtags)\n"
   ]
  },
  {
   "cell_type": "code",
   "execution_count": null,
   "id": "95fab4ca",
   "metadata": {},
   "outputs": [],
   "source": [
    "'''\n",
    "Question 28- Write a python program using RegEx to remove <U+..> like symbols\n",
    "Check the below sample text, there are strange symbols something of the sort <U+..> all over the place. You need to come up with a general Regex expression that will cover all such symbols.\n",
    "Sample Text: \"@Jags123456 Bharat band on 28??<ed><U+00A0><U+00BD><ed><U+00B8><U+0082>Those who  are protesting #demonetization  are all different party leaders\"\n",
    "Expected Output: @Jags123456 Bharat band on 28??<ed><ed>Those who  are protesting #demonetization  are all different party leaders\n",
    "'''\n",
    "\n",
    "\n",
    "import re\n",
    "\n",
    "sample_text = \"@Jags123456 Bharat band on 28??<ed><U+00A0><U+00BD><ed><U+00B8><U+0082>Those who  are protesting #demonetization  are all different party leaders\"\n",
    "\n",
    "cleaned_text = re.sub(r'<U\\+[0-9A-Fa-f]+>', '', sample_text)\n",
    "\n",
    "print(cleaned_text)\n"
   ]
  },
  {
   "cell_type": "code",
   "execution_count": null,
   "id": "a74594b9",
   "metadata": {},
   "outputs": [],
   "source": [
    "'''\n",
    "Question 29- Write a python program to extract dates from the text stored in the text file.\n",
    "Sample Text: Ron was born on 12-09-1992 and he was admitted to school 15-12-1999.\n",
    "Note- Store this sample text in the file and then extract dates.\n",
    "'''\n",
    "\n",
    "import re\n",
    "\n",
    "# Read the content of the file\n",
    "with open(\"C:\\Users\\linlinpeng\\Desktop\\input.text - 副本 - 副本.txt, \"r\") as file:\n",
    "    file_content = file.read()\n",
    "\n",
    "# Extract dates using regular expression\n",
    "dates = re.findall(r'\\b\\d{2}-\\d{2}-\\d{4}\\b', file_content)\n",
    "\n",
    "# Print the extracted dates\n",
    "print(dates)\n"
   ]
  },
  {
   "cell_type": "code",
   "execution_count": null,
   "id": "a9a696ef",
   "metadata": {},
   "outputs": [],
   "source": [
    "'''\n",
    "Question 30- Create a function in python to remove all words from a string of length between 2 and 4.\n",
    "The use of the re.compile() method is mandatory.\n",
    "Sample Text: \"The following example creates an ArrayList with a capacity of 50 elements. 4 elements are then added to the ArrayList and the ArrayList is trimmed accordingly.\"\n",
    "Expected Output:  following example creates ArrayList a capacity elements. 4 elements added ArrayList ArrayList trimmed accordingly.\n",
    "'''\n",
    "\n",
    "\n",
    "import re\n",
    "\n",
    "sample_text = \"The following example creates an ArrayList with a capacity of 50 elements. 4 elements are then added to the ArrayList and the ArrayList is trimmed accordingly.\"\n",
    "\n",
    "processed_text = re.sub(r'\\b\\w{2,4}\\b', '', sample_text)\n",
    "\n",
    "print(processed_text)\n"
   ]
  },
  {
   "cell_type": "code",
   "execution_count": null,
   "id": "c748cd3e",
   "metadata": {},
   "outputs": [],
   "source": []
  }
 ],
 "metadata": {
  "kernelspec": {
   "display_name": "Python 3 (ipykernel)",
   "language": "python",
   "name": "python3"
  },
  "language_info": {
   "codemirror_mode": {
    "name": "ipython",
    "version": 3
   },
   "file_extension": ".py",
   "mimetype": "text/x-python",
   "name": "python",
   "nbconvert_exporter": "python",
   "pygments_lexer": "ipython3",
   "version": "3.11.5"
  }
 },
 "nbformat": 4,
 "nbformat_minor": 5
}
